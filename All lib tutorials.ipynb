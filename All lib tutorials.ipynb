{
 "cells": [
  {
   "cell_type": "code",
   "execution_count": 1,
   "id": "e97df478-8470-4ddf-abcb-4bfb0b70910d",
   "metadata": {},
   "outputs": [],
   "source": [
    "import os\n",
    "from matplotlib import pyplot as plt\n",
    "import tensorflow as tf\n",
    "import librosa\n",
    "import librosa.display\n",
    "import numpy as np"
   ]
  },
  {
   "cell_type": "code",
   "execution_count": 2,
   "id": "96837e0a-59bd-464e-ac2b-48d32163c232",
   "metadata": {},
   "outputs": [],
   "source": [
    "acquatic_mammels = os.path.join('acquatic_mammels', '404314__mbari_mars__marine-mammal-community.mp3')\n",
    "# not_acquatic_mammels = os.path.join('Audio', 'Cargo', '110.wav')"
   ]
  },
  {
   "cell_type": "code",
   "execution_count": 3,
   "id": "183bc17b-6cf4-45d4-8b19-0e9390810f1b",
   "metadata": {},
   "outputs": [
    {
     "data": {
      "text/plain": [
       "'acquatic_mammels\\\\404314__mbari_mars__marine-mammal-community.mp3'"
      ]
     },
     "execution_count": 3,
     "metadata": {},
     "output_type": "execute_result"
    }
   ],
   "source": [
    "acquatic_mammels"
   ]
  },
  {
   "cell_type": "code",
   "execution_count": 4,
   "id": "469dd3fe-3d5b-4f8e-9c57-28db57f8c6f2",
   "metadata": {},
   "outputs": [],
   "source": [
    "def load_audio_16k_mono_librosa(filename):\n",
    "    # Load audio using librosa\n",
    "    wav, sample_rate = librosa.load(filename, sr=None, mono=True)\n",
    "    # Resample to 16000hz\n",
    "    wav = librosa.resample(y=wav, orig_sr=sample_rate, target_sr=16000)\n",
    "    return wav"
   ]
  },
  {
   "cell_type": "code",
   "execution_count": 5,
   "id": "322e6cb1-77e8-4598-a7b2-ab003e8b74bc",
   "metadata": {},
   "outputs": [
    {
     "name": "stdout",
     "output_type": "stream",
     "text": [
      "Aquatic mammals audio shape: (120960,)\n"
     ]
    }
   ],
   "source": [
    "wave_librosa = load_audio_16k_mono_librosa(acquatic_mammels)\n",
    "# nwave_librosa = load_audio_16k_mono_librosa(not_acquatic_mammels)\n",
    "\n",
    "print(\"Aquatic mammals audio shape:\", wave_librosa.shape)\n",
    "# print(\"Non-aquatic mammals audio shape:\", nwave_librosa.shape)"
   ]
  },
  {
   "cell_type": "code",
   "execution_count": 6,
   "id": "067d31d8-5bb0-43a0-9e81-63d884cd256e",
   "metadata": {
    "scrolled": true
   },
   "outputs": [
    {
     "data": {
      "image/png": "[encoded data removed]",
      "text/plain": [
       "<Figure size 640x480 with 1 Axes>"
      ]
     },
     "metadata": {},
     "output_type": "display_data"
    }
   ],
   "source": [
    "plt.plot(wave_librosa)\n",
    "# plt.plot(nwave_librosa)\n",
    "plt.show()"
   ]
  },
  {
   "cell_type": "code",
   "execution_count": 7,
   "id": "49cfeb23-0567-493c-8121-a5deecbbceda",
   "metadata": {},
   "outputs": [],
   "source": [
    "acquatic_mammels = os.path.join('D:\\\\RUAS\\\\1st_year_internship\\\\TCE\\\\Deep_waters\\\\acquatic_mammels')\n",
    "natural_sounds = os.path.join('D:\\\\RUAS\\\\1st_year_internship\\\\TCE\\\\Deep_waters\\\\natural_sounds')\n",
    "Other_anthropogenic = os.path.join('D:\\\\RUAS\\\\1st_year_internship\\\\TCE\\\\Deep_waters\\\\Other_anthropogenic')\n",
    "vessels = os.path.join('D:\\\\RUAS\\\\1st_year_internship\\\\TCE\\\\Deep_waters\\\\vessels')"
   ]
  },
  {
   "cell_type": "code",
   "execution_count": 8,
   "id": "c88471af-d10a-4b57-a5a6-b3dd193780a9",
   "metadata": {},
   "outputs": [],
   "source": [
    "Acquatic_Mammels = tf.data.Dataset.list_files(acquatic_mammels+'/*.wav')\n",
    "Natural_Sounds = tf.data.Dataset.list_files(natural_sounds+'/*.mp3')\n",
    "Other_Anthropogenic = tf.data.Dataset.list_files(Other_anthropogenic+'/*.mp3')\n",
    "Vessels = tf.data.Dataset.list_files(vessels+'/*.wav')"
   ]
  },
  {
   "cell_type": "code",
   "execution_count": 9,
   "id": "8304e56d-23e7-4295-adab-33c58d84638b",
   "metadata": {},
   "outputs": [],
   "source": [
    "pos_Acquatic_Mammels = tf.data.Dataset.zip((Acquatic_Mammels, tf.data.Dataset.from_tensor_slices(tf.ones(len(Acquatic_Mammels)))))\n",
    "pos_Natural_Sounds = tf.data.Dataset.zip((Natural_Sounds, tf.data.Dataset.from_tensor_slices(tf.ones(len(Natural_Sounds)))))\n",
    "pos_Other_Anthropogenic = tf.data.Dataset.zip((Other_Anthropogenic, tf.data.Dataset.from_tensor_slices(tf.ones(len(Other_Anthropogenic)))))\n",
    "pos_Vessels = tf.data.Dataset.zip((Vessels, tf.data.Dataset.from_tensor_slices(tf.ones(len(Vessels)))))"
   ]
  },
  {
   "cell_type": "code",
   "execution_count": null,
   "id": "56f946ef-2b4d-486c-81af-aec5db02f229",
   "metadata": {},
   "outputs": [],
   "source": []
  },
  {
   "cell_type": "code",
   "execution_count": 10,
   "id": "087366c2-dc8e-4de6-bc0f-4502d588d8a0",
   "metadata": {},
   "outputs": [],
   "source": [
    "length1 = []\n",
    "for file in os.listdir(os.path.join('acquatic_mammels')):\n",
    "    tensor_wave = load_audio_16k_mono_librosa(os.path.join('acquatic_mammels', file))\n",
    "    length1.append(len(tensor_wave))"
   ]
  },
  {
   "cell_type": "code",
   "execution_count": 11,
   "id": "2f4779e4-8ace-402e-a69c-e99b5ba84b8f",
   "metadata": {},
   "outputs": [
    {
     "data": {
      "text/plain": [
       "<tf.Tensor: shape=(), dtype=int32, numpy=6106363>"
      ]
     },
     "execution_count": 11,
     "metadata": {},
     "output_type": "execute_result"
    }
   ],
   "source": [
    "tf.math.reduce_mean(length1)"
   ]
  },
  {
   "cell_type": "code",
   "execution_count": 12,
   "id": "c67e3e6f-daf3-42a6-9176-35ae2d24b0fd",
   "metadata": {},
   "outputs": [
    {
     "data": {
      "text/plain": [
       "<tf.Tensor: shape=(), dtype=int32, numpy=120960>"
      ]
     },
     "execution_count": 12,
     "metadata": {},
     "output_type": "execute_result"
    }
   ],
   "source": [
    "tf.math.reduce_min(length1)"
   ]
  },
  {
   "cell_type": "code",
   "execution_count": 13,
   "id": "384688f3-2d44-4330-8a00-946b73c2d266",
   "metadata": {},
   "outputs": [
    {
     "data": {
      "text/plain": [
       "<tf.Tensor: shape=(), dtype=int32, numpy=47039925>"
      ]
     },
     "execution_count": 13,
     "metadata": {},
     "output_type": "execute_result"
    }
   ],
   "source": [
    "tf.math.reduce_max(length1)"
   ]
  },
  {
   "cell_type": "code",
   "execution_count": 14,
   "id": "ea84d16c-df80-4c54-9132-88565e458d05",
   "metadata": {},
   "outputs": [],
   "source": [
    "length2 = []\n",
    "for file in os.listdir(os.path.join('natural_sounds')):\n",
    "    tensor_wave = load_audio_16k_mono_librosa(os.path.join('natural_sounds', file))\n",
    "    length2.append(len(tensor_wave))"
   ]
  },
  {
   "cell_type": "code",
   "execution_count": 15,
   "id": "e4365c10-8f25-422d-b046-775d0b92594f",
   "metadata": {},
   "outputs": [
    {
     "data": {
      "text/plain": [
       "<tf.Tensor: shape=(), dtype=int32, numpy=325352>"
      ]
     },
     "execution_count": 15,
     "metadata": {},
     "output_type": "execute_result"
    }
   ],
   "source": [
    "tf.math.reduce_mean(length2)"
   ]
  },
  {
   "cell_type": "code",
   "execution_count": 16,
   "id": "92a1316d-cbd6-416a-b65c-6a8ebe753e78",
   "metadata": {},
   "outputs": [
    {
     "data": {
      "text/plain": [
       "<tf.Tensor: shape=(), dtype=int32, numpy=325352>"
      ]
     },
     "execution_count": 16,
     "metadata": {},
     "output_type": "execute_result"
    }
   ],
   "source": [
    "tf.math.reduce_min(length2)"
   ]
  },
  {
   "cell_type": "code",
   "execution_count": 17,
   "id": "5a828a0b-8e02-470e-9356-bb63c9ef7858",
   "metadata": {},
   "outputs": [
    {
     "data": {
      "text/plain": [
       "<tf.Tensor: shape=(), dtype=int32, numpy=325352>"
      ]
     },
     "execution_count": 17,
     "metadata": {},
     "output_type": "execute_result"
    }
   ],
   "source": [
    "tf.math.reduce_max(length2)"
   ]
  },
  {
   "cell_type": "code",
   "execution_count": 18,
   "id": "0b5ad909-d069-49ec-848a-93f590eaf655",
   "metadata": {},
   "outputs": [],
   "source": [
    "length3 = []\n",
    "for file in os.listdir(os.path.join('Other_anthropogenic')):\n",
    "    tensor_wave = load_audio_16k_mono_librosa(os.path.join('Other_anthropogenic', file))\n",
    "    length3.append(len(tensor_wave))"
   ]
  },
  {
   "cell_type": "code",
   "execution_count": 19,
   "id": "e0993085-5f7b-4e1a-8bd3-a745c0a91ace",
   "metadata": {},
   "outputs": [
    {
     "data": {
      "text/plain": [
       "<tf.Tensor: shape=(), dtype=int32, numpy=366601>"
      ]
     },
     "execution_count": 19,
     "metadata": {},
     "output_type": "execute_result"
    }
   ],
   "source": [
    "tf.math.reduce_mean(length3)"
   ]
  },
  {
   "cell_type": "code",
   "execution_count": 20,
   "id": "98b597fc-862e-4d39-b077-375ed453a244",
   "metadata": {},
   "outputs": [
    {
     "data": {
      "text/plain": [
       "<tf.Tensor: shape=(), dtype=int32, numpy=173568>"
      ]
     },
     "execution_count": 20,
     "metadata": {},
     "output_type": "execute_result"
    }
   ],
   "source": [
    "tf.math.reduce_min(length3)"
   ]
  },
  {
   "cell_type": "code",
   "execution_count": 21,
   "id": "374c8850-5260-4e0e-bef9-8de0065283c9",
   "metadata": {},
   "outputs": [
    {
     "data": {
      "text/plain": [
       "<tf.Tensor: shape=(), dtype=int32, numpy=673920>"
      ]
     },
     "execution_count": 21,
     "metadata": {},
     "output_type": "execute_result"
    }
   ],
   "source": [
    "tf.math.reduce_max(length3)"
   ]
  },
  {
   "cell_type": "code",
   "execution_count": 22,
   "id": "b1047f93-50fc-4a7b-b8f6-2924bb974a11",
   "metadata": {},
   "outputs": [],
   "source": [
    "length4 = []\n",
    "for file in os.listdir(os.path.join('vessels')):\n",
    "    tensor_wave = load_audio_16k_mono_librosa(os.path.join('vessels', file))\n",
    "    length4.append(len(tensor_wave))"
   ]
  },
  {
   "cell_type": "code",
   "execution_count": 23,
   "id": "6b9f6387-a8dc-4e48-97f7-1284b1726cec",
   "metadata": {},
   "outputs": [
    {
     "data": {
      "text/plain": [
       "<tf.Tensor: shape=(), dtype=int32, numpy=1503986>"
      ]
     },
     "execution_count": 23,
     "metadata": {},
     "output_type": "execute_result"
    }
   ],
   "source": [
    "tf.math.reduce_mean(length4)"
   ]
  },
  {
   "cell_type": "code",
   "execution_count": 24,
   "id": "1c00b257-ef10-4e73-af4c-6b984f6958c3",
   "metadata": {},
   "outputs": [
    {
     "data": {
      "text/plain": [
       "<tf.Tensor: shape=(), dtype=int32, numpy=96000>"
      ]
     },
     "execution_count": 24,
     "metadata": {},
     "output_type": "execute_result"
    }
   ],
   "source": [
    "tf.math.reduce_min(length4)"
   ]
  },
  {
   "cell_type": "code",
   "execution_count": 25,
   "id": "c7fb62b8-0534-4b8b-994f-bcb2b1794b91",
   "metadata": {},
   "outputs": [
    {
     "data": {
      "text/plain": [
       "<tf.Tensor: shape=(), dtype=int32, numpy=4821766>"
      ]
     },
     "execution_count": 25,
     "metadata": {},
     "output_type": "execute_result"
    }
   ],
   "source": [
    "tf.math.reduce_max(length4)"
   ]
  },
  {
   "cell_type": "code",
   "execution_count": 26,
   "id": "dbdde4d8-5d6b-4770-868a-4a04591c3c93",
   "metadata": {},
   "outputs": [],
   "source": [
    "def preprocess(file_path, label): \n",
    "    wav = load_audio_16k_mono_librosa(file_path)\n",
    "    wav = wav[:48000]\n",
    "    zero_padding = tf.zeros([48000] - tf.shape(wav), dtype=tf.float32)\n",
    "    wav = tf.concat([zero_padding, wav],0)\n",
    "    spectrogram = tf.signal.stft(wav, frame_length=320, frame_step=32)\n",
    "    spectrogram = tf.abs(spectrogram)\n",
    "    spectrogram = tf.expand_dims(spectrogram, axis=2)\n",
    "    return spectrogram, label"
   ]
  },
  {
   "cell_type": "code",
   "execution_count": 39,
   "id": "46204651-d382-4763-82c5-b6a750ba8adc",
   "metadata": {},
   "outputs": [],
   "source": [
    "filepath, label = pos_Acquatic_Mammels.shuffle(buffer_size=10000).as_numpy_iterator().next()"
   ]
  },
  {
   "cell_type": "code",
   "execution_count": 40,
   "id": "27ff59ed-6049-44fc-aafb-9bb56ffd3b90",
   "metadata": {},
   "outputs": [],
   "source": [
    "spectrogram, label = preprocess(filepath, label)"
   ]
  },
  {
   "cell_type": "code",
   "execution_count": null,
   "id": "10195b7a-9666-4a2e-9ebe-87a4a3214691",
   "metadata": {},
   "outputs": [],
   "source": []
  },
  {
   "cell_type": "code",
   "execution_count": 41,
   "id": "69955f8a-6387-436a-8a1a-de7b390848b1",
   "metadata": {},
   "outputs": [
    {
     "data": {
      "image/png": "[encoded data removed]",
      "text/plain": [
       "<Figure size 3000x2000 with 1 Axes>"
      ]
     },
     "metadata": {},
     "output_type": "display_data"
    }
   ],
   "source": [
    "plt.figure(figsize=(30,20))\n",
    "plt.imshow(tf.transpose(spectrogram)[0],origin=\"lower\")\n",
    "plt.show()"
   ]
  },
  {
   "cell_type": "code",
   "execution_count": 30,
   "id": "25d8a2cd-8f95-47e8-b5f1-8daf9eef4fb7",
   "metadata": {},
   "outputs": [],
   "source": [
    "def feature_extraction(file_path):\n",
    "    # load the audio file\n",
    "    x, sample_rate = librosa.load(file_path, res_type='kaiser_fast')\n",
    "    # extract features from the audio\n",
    "    mfcc = np.mean(librosa.feature.mfcc(y=x, sr=sample_rate, n_mfcc=50).T, axis=0)\n",
    "    \n",
    "    return mfcc"
   ]
  },
  {
   "cell_type": "code",
   "execution_count": 31,
   "id": "30718d2a-7497-4920-94ed-20ec1c132acc",
   "metadata": {},
   "outputs": [],
   "source": [
    "import resampy\n",
    "features1={}\n",
    "path=\"D:\\\\RUAS\\\\1st_year_internship\\\\TCE\\\\Deep_waters\\\\acquatic_mammels\"\n",
    "for file in os.listdir(path):\n",
    "    file_path = os.path.join(path, file)\n",
    "    features1[file] = feature_extraction(file_path)"
   ]
  },
  {
   "cell_type": "code",
   "execution_count": 32,
   "id": "61aec92a-2477-4bef-8598-d5596c06a0ff",
   "metadata": {},
   "outputs": [],
   "source": [
    "features2={}\n",
    "path=\"D:\\\\RUAS\\\\1st_year_internship\\\\TCE\\\\Deep_waters\\\\natural_sounds\"\n",
    "for file in os.listdir(path):\n",
    "    file_path = os.path.join(path, file)\n",
    "    features2[file] = feature_extraction(file_path)"
   ]
  },
  {
   "cell_type": "code",
   "execution_count": 33,
   "id": "76726d3f-a769-4894-be02-5d0a8f79f321",
   "metadata": {},
   "outputs": [],
   "source": [
    "features3={}\n",
    "path=\"D:\\\\RUAS\\\\1st_year_internship\\\\TCE\\\\Deep_waters\\\\other_anthropogenic\"\n",
    "for file in os.listdir(path):\n",
    "    file_path = os.path.join(path, file)\n",
    "    features3[file] = feature_extraction(file_path)"
   ]
  },
  {
   "cell_type": "code",
   "execution_count": 34,
   "id": "116310b2-8b7c-4ed4-8309-42cf29676acb",
   "metadata": {},
   "outputs": [],
   "source": [
    "features4={}\n",
    "path=\"D:\\\\RUAS\\\\1st_year_internship\\\\TCE\\\\Deep_waters\\\\vessels\"\n",
    "for file in os.listdir(path):\n",
    "    file_path = os.path.join(path, file)\n",
    "    features4[file] = feature_extraction(file_path)"
   ]
  },
  {
   "cell_type": "code",
   "execution_count": 35,
   "id": "e8c0029d-e201-4b9a-9913-a1dba428c490",
   "metadata": {},
   "outputs": [
    {
     "data": {
      "text/plain": [
       "{'369485__mbari_mars__earthquake-audible-only-with-appropriate-speakers.mp3': array([-320.92572   ,   56.343224  ,   14.882484  ,   34.525402  ,\n",
       "          10.759204  ,   19.662718  ,    4.5611734 ,   13.239906  ,\n",
       "           2.3073258 ,   11.243787  ,    3.0084217 ,   11.161287  ,\n",
       "           1.0525559 ,    8.303018  ,    2.0287993 ,    7.4460173 ,\n",
       "           0.88138926,    4.9068384 ,    1.2580787 ,    2.9636765 ,\n",
       "           0.48616052,    3.3375063 ,    1.4709243 ,    1.9050163 ,\n",
       "           2.3464196 ,    2.8002467 ,    3.0694222 ,    3.279769  ,\n",
       "           3.994863  ,    2.2638447 ,    3.4808865 ,    1.8660916 ,\n",
       "           2.5297353 ,    0.42358613,    2.4144356 ,    0.9623871 ,\n",
       "           2.1284409 ,    1.1798046 ,    2.8444836 ,    1.1234872 ,\n",
       "           1.9441872 ,    0.9915466 ,    2.1685085 ,    0.84083647,\n",
       "           2.153512  ,    0.97395974,    1.5433352 ,    0.9560997 ,\n",
       "           0.9913539 ,    0.45351696], dtype=float32),\n",
       " '369510__mbari_mars__blue-whale-d-calls-audible-only-with-appropriate-speakers.mp3': array([-3.3960626e+02,  1.3273903e+02,  4.4344154e+01,  1.8101366e+01,\n",
       "         2.2701797e+01,  1.5831393e+01,  1.0370152e+01,  1.1172752e+01,\n",
       "         9.5183468e+00,  7.9705153e+00,  7.7485948e+00,  6.9866142e+00,\n",
       "         6.7175226e+00,  6.2484164e+00,  5.2093415e+00,  4.7918534e+00,\n",
       "         4.6116467e+00,  4.4477491e+00,  4.4139423e+00,  3.8890612e+00,\n",
       "         3.3217080e+00,  3.3085542e+00,  3.1274202e+00,  2.6406097e+00,\n",
       "         2.4879837e+00,  2.3630228e+00,  1.8938652e+00,  1.6725523e+00,\n",
       "         1.7592633e+00,  1.5696543e+00,  1.2899352e+00,  1.0964319e+00,\n",
       "         6.4865756e-01,  1.9500998e-01, -2.4121881e-02, -3.0687663e-01,\n",
       "        -5.3384614e-01, -5.6573176e-01, -6.1849201e-01, -5.8135700e-01,\n",
       "        -4.9814525e-01, -6.9968534e-01, -1.0176262e+00, -1.2345883e+00,\n",
       "        -1.3554696e+00, -1.2075022e+00, -9.6319234e-01, -9.7275680e-01,\n",
       "        -9.5190275e-01, -7.6727283e-01], dtype=float32),\n",
       " '403428__mbari_mars__humpback-whale-and-cachalot.wav': array([-205.9071    ,   89.58792   ,   -6.1962857 ,   21.608383  ,\n",
       "          -6.7989683 ,    6.1719117 ,  -12.1797285 ,    2.2003236 ,\n",
       "         -13.878457  ,   -0.4339555 ,  -11.372638  ,    1.5439665 ,\n",
       "         -10.955165  ,   -0.9561097 ,   -8.675462  ,   -0.65449274,\n",
       "          -8.695448  ,   -0.7436413 ,   -6.590334  ,   -2.3525746 ,\n",
       "          -6.277763  ,   -3.4854302 ,   -6.428651  ,   -4.045148  ,\n",
       "          -6.621695  ,   -4.630396  ,   -5.1178412 ,   -5.2517653 ,\n",
       "          -4.5417295 ,   -4.917804  ,   -4.2645106 ,   -5.3289013 ,\n",
       "          -4.2273893 ,   -5.3583946 ,   -3.919838  ,   -5.231446  ,\n",
       "          -3.9025078 ,   -5.0835047 ,   -3.5802906 ,   -5.8323293 ,\n",
       "          -4.1529856 ,   -5.5382547 ,   -4.2861276 ,   -5.620766  ,\n",
       "          -3.9508421 ,   -5.345894  ,   -4.309609  ,   -5.2791944 ,\n",
       "          -3.8325953 ,   -4.6670065 ], dtype=float32),\n",
       " '403841__mbari_mars__fin-whale-audible-only-with-appropriate-speakers.wav': array([-2.1935901e+02,  5.0251003e+01, -1.0284257e+01,  2.1788013e+01,\n",
       "        -4.9347705e-01,  1.7202715e+01, -3.4755821e+00,  1.1819881e+01,\n",
       "        -2.9212849e+00,  1.1647045e+01, -3.6615417e+00,  8.5130682e+00,\n",
       "        -2.8768842e+00,  7.5765615e+00, -3.3427930e+00,  6.2126513e+00,\n",
       "        -2.2702990e+00,  4.4303732e+00, -1.6866490e+00,  3.5633166e+00,\n",
       "        -1.2581969e+00,  2.8584909e+00, -1.1366717e+00,  1.4449886e+00,\n",
       "        -7.1380717e-01,  3.9746708e-01, -1.9137578e-01, -7.0808001e-02,\n",
       "        -5.5216652e-01, -6.5391064e-01, -5.0431925e-01, -1.3325711e+00,\n",
       "        -6.4232218e-01, -1.7320480e+00, -9.9009764e-01, -2.3842266e+00,\n",
       "        -1.0177327e+00, -2.2770536e+00, -7.2534478e-01, -2.2548695e+00,\n",
       "        -3.0946133e-01, -1.8876863e+00, -1.6812485e-01, -1.6113162e+00,\n",
       "        -3.3733949e-02, -1.6402235e+00, -8.2612202e-02, -1.1702570e+00,\n",
       "        -3.4613494e-02, -1.2762250e+00], dtype=float32),\n",
       " '403844__mbari_mars__blue-whale-a-and-b-calls-audible-only-with-appropriate-speakers.wav': array([-4.4948907e+02,  3.2455112e+01,  2.9602579e+01,  2.5852890e+01,\n",
       "         2.3473333e+01,  2.1591463e+01,  2.0571819e+01,  1.9253597e+01,\n",
       "         1.7887777e+01,  1.6287355e+01,  1.4663797e+01,  1.3405132e+01,\n",
       "         1.2161279e+01,  1.1427160e+01,  1.0297243e+01,  9.5582581e+00,\n",
       "         8.2232742e+00,  7.3827863e+00,  6.0928097e+00,  5.4884491e+00,\n",
       "         4.6264191e+00,  4.3287344e+00,  3.7295122e+00,  3.4192553e+00,\n",
       "         2.9356463e+00,  2.6294417e+00,  2.3435900e+00,  2.0536091e+00,\n",
       "         1.8832165e+00,  1.5163010e+00,  1.3429071e+00,  9.1876972e-01,\n",
       "         8.7634069e-01,  6.4838451e-01,  7.9113293e-01,  6.2699991e-01,\n",
       "         6.8596697e-01,  4.8779535e-01,  5.1550877e-01,  4.2262554e-01,\n",
       "         4.5080435e-01,  3.9486355e-01,  3.1305602e-01,  2.0248187e-01,\n",
       "        -1.8040095e-02, -1.6762301e-01, -4.3066308e-01, -5.3192854e-01,\n",
       "        -7.3978072e-01, -7.5134599e-01], dtype=float32),\n",
       " '404313__mbari_mars__pacific-white-sided-dolphins.wav': array([-186.46603   ,   70.11408   ,   -0.48167115,   40.249294  ,\n",
       "           1.8826271 ,   30.873545  ,   -6.540055  ,   18.3586    ,\n",
       "          -5.0342855 ,   20.103703  ,   -9.278933  ,   13.966076  ,\n",
       "          -7.002226  ,   14.305239  ,   -6.6467824 ,   11.548162  ,\n",
       "          -6.1405554 ,    9.798467  ,   -5.2440844 ,    9.399184  ,\n",
       "          -6.111479  ,    7.9641395 ,   -3.4889178 ,    6.903012  ,\n",
       "          -2.619335  ,    3.9566927 ,   -3.6784284 ,    2.9451437 ,\n",
       "          -3.3398266 ,    3.7735374 ,   -4.1179643 ,    3.9549255 ,\n",
       "          -4.0751452 ,    3.7747266 ,   -1.7333795 ,    3.0678718 ,\n",
       "          -1.161354  ,    2.2470465 ,   -1.6191112 ,    2.1148794 ,\n",
       "          -1.7187366 ,    1.1715347 ,   -0.9984519 ,    0.61380947,\n",
       "          -1.10326   ,    0.9601511 ,   -1.2324791 ,    0.6658131 ,\n",
       "           0.47445315,    0.56837606], dtype=float32),\n",
       " '404314__mbari_mars__marine-mammal-community.mp3': array([-1.2519435e+02,  9.4666817e+01,  4.2298050e+00,  4.0027283e+01,\n",
       "         7.4195595e+00,  3.2086441e+01, -1.1016115e+00,  1.9176092e+01,\n",
       "        -1.5850250e+00,  1.9531898e+01, -3.8514831e+00,  1.4818428e+01,\n",
       "        -1.1664848e+00,  1.5191448e+01, -4.2126231e+00,  1.0450400e+01,\n",
       "        -5.5165672e+00,  5.6289129e+00, -6.3150120e+00,  4.1138887e+00,\n",
       "        -5.0139618e+00,  5.2778192e+00, -3.0315602e+00,  3.1696763e+00,\n",
       "        -2.3193989e+00,  4.0229359e+00, -1.5065798e+00,  2.6096938e+00,\n",
       "        -3.7378207e-01,  1.5231901e+00, -4.0808129e-01,  1.8758560e+00,\n",
       "         1.6456547e-01,  1.0540817e+00,  1.8201078e-01,  4.5370662e-01,\n",
       "        -9.7726983e-01, -2.5722063e-01, -7.8593230e-01,  6.1511248e-01,\n",
       "         1.1140967e-01, -9.3702710e-01, -4.9452299e-01, -9.1124451e-01,\n",
       "        -2.7745408e-01, -7.1160156e-01, -4.8731792e-01, -8.5647684e-01,\n",
       "         4.9766586e-03, -7.9204863e-01], dtype=float32),\n",
       " '404318__mbari_mars__cachalot-sperm-whale.mp3': array([-2.7162228e+02,  9.2606148e+01, -8.0612980e-02,  3.7217484e+01,\n",
       "        -1.0643330e+01,  1.9259333e+01, -1.3934846e+01,  1.2708427e+01,\n",
       "        -1.2712712e+01,  1.3845286e+01, -7.7516108e+00,  1.5161732e+01,\n",
       "        -5.3810697e+00,  1.5558201e+01, -5.2805352e+00,  1.2158873e+01,\n",
       "        -5.5610085e+00,  1.1532347e+01, -4.1859784e+00,  9.6029167e+00,\n",
       "        -3.3727574e+00,  9.6731844e+00, -3.5271173e+00,  6.2344217e+00,\n",
       "        -2.5068071e+00,  5.4827566e+00, -2.8320913e+00,  4.9720402e+00,\n",
       "        -2.2068782e+00,  3.8195133e+00, -1.8903738e+00,  3.2432032e+00,\n",
       "        -2.3385732e+00,  2.1699843e+00, -2.0328460e+00,  1.0809290e+00,\n",
       "        -1.9886072e+00,  8.1366563e-01, -2.1385891e+00,  5.4133373e-01,\n",
       "        -1.7523873e+00,  3.4570500e-01, -1.6748377e+00,  3.9823169e-01,\n",
       "        -1.3372642e+00,  4.4160929e-01, -1.2612312e+00,  2.8000695e-01,\n",
       "        -8.2732010e-01, -2.0326741e-01], dtype=float32),\n",
       " '413377__mbari_mars__gray-whale.wav': array([-4.58470337e+02,  9.60662537e+01,  8.77426834e+01,  7.48619385e+01,\n",
       "         5.87753906e+01,  4.11224174e+01,  2.36219978e+01,  7.86024284e+00,\n",
       "        -4.89667082e+00, -1.38389435e+01, -1.86819572e+01, -1.96607246e+01,\n",
       "        -1.74543705e+01, -1.30551119e+01, -7.60366631e+00, -2.21691895e+00,\n",
       "         2.16657996e+00,  4.90181255e+00,  5.69893217e+00,  4.62614489e+00,\n",
       "         2.05797553e+00, -1.41875839e+00, -5.12321138e+00, -8.40239239e+00,\n",
       "        -1.07369909e+01, -1.18154631e+01, -1.15670204e+01, -1.01514959e+01,\n",
       "        -7.91140556e+00, -5.29726219e+00, -2.78095365e+00, -7.72771657e-01,\n",
       "         4.43997085e-01,  7.51115203e-01,  2.01642379e-01, -1.00424075e+00,\n",
       "        -2.56725883e+00, -4.15072250e+00, -5.44394207e+00, -6.21607494e+00,\n",
       "        -6.35151911e+00, -5.86190653e+00, -4.87423420e+00, -3.59895778e+00,\n",
       "        -2.28521585e+00, -1.17216408e+00, -4.45536792e-01, -2.06956670e-01,\n",
       "        -4.60770369e-01, -1.11963701e+00], dtype=float32),\n",
       " '448984__mbari_mars__humpback-whale-song.wav': array([-2.71246643e+02,  1.06822235e+02,  9.80707264e+00,  1.88204365e+01,\n",
       "         8.52949524e+00,  1.93105927e+01,  6.78690672e+00,  9.98291302e+00,\n",
       "        -2.64634490e+00,  4.93090153e+00,  9.00050163e-01,  8.14700222e+00,\n",
       "        -1.25387990e+00,  3.39870501e+00,  9.59908307e-01,  2.78483295e+00,\n",
       "        -9.43512559e-01,  3.19496155e+00,  1.02487552e+00,  2.90106726e+00,\n",
       "         3.13344860e+00,  3.46596122e+00,  6.73565209e-01,  9.61762130e-01,\n",
       "         2.72363544e+00,  1.48591495e+00,  1.51829755e+00,  1.06572747e+00,\n",
       "         1.72451091e+00,  1.17423320e+00,  3.22810411e+00,  1.53789520e+00,\n",
       "         2.21577835e+00,  7.65586376e-01,  1.89184153e+00,  5.62634289e-01,\n",
       "         1.79932940e+00,  8.69834661e-01,  5.54708540e-01,  5.86144090e-01,\n",
       "         1.86757028e+00,  5.65722704e-01,  5.97825229e-01,  1.55474424e-01,\n",
       "         6.05499387e-01,  2.11049318e-01,  3.71699691e-01,  2.88367510e-01,\n",
       "         1.97929442e-01,  2.11129606e-01], dtype=float32),\n",
       " '458854__mbari_mars__orcas-killer-whales.wav': array([-1.37539352e+02,  2.29027100e+01, -9.17995300e+01, -2.97446690e+01,\n",
       "        -5.81076813e+01, -2.76974945e+01, -5.22259178e+01, -2.58206272e+01,\n",
       "        -3.33930168e+01, -1.16350257e+00, -1.82386303e+01, -2.57424283e+00,\n",
       "        -2.55187016e+01,  1.07970512e+00, -1.00842743e+01,  9.50252819e+00,\n",
       "        -4.91999805e-01,  1.47591963e+01,  3.15105176e+00,  1.69785900e+01,\n",
       "         4.98616982e+00,  1.50017605e+01,  5.04878664e+00,  1.32109041e+01,\n",
       "         5.26222944e+00,  7.47239161e+00, -3.98228109e-01,  5.13011646e+00,\n",
       "        -5.85356474e-01, -1.59252310e+00, -8.69049454e+00, -2.00816917e+00,\n",
       "        -3.92683697e+00, -3.46628308e+00, -5.43481159e+00, -4.31824017e+00,\n",
       "        -5.00868368e+00, -4.08421421e+00, -6.69212008e+00, -4.30955315e+00,\n",
       "        -9.53848004e-01, -1.34014213e+00, -1.00085452e-01,  4.70017552e-01,\n",
       "         1.38805020e+00,  1.75153077e+00,  3.31941938e+00,  4.11567450e+00,\n",
       "         3.79221678e+00,  3.87085676e+00], dtype=float32)}"
      ]
     },
     "execution_count": 35,
     "metadata": {},
     "output_type": "execute_result"
    }
   ],
   "source": [
    "features1"
   ]
  },
  {
   "cell_type": "code",
   "execution_count": 42,
   "id": "4af8426a-0198-4cc6-ba83-f7353e0e782d",
   "metadata": {},
   "outputs": [],
   "source": [
    "dataset1 = tf.data.Dataset.from_tensor_slices(features1)"
   ]
  },
  {
   "cell_type": "code",
   "execution_count": 44,
   "id": "25d6ae23-ba9d-4582-b0a7-bdc5f9729d91",
   "metadata": {},
   "outputs": [],
   "source": [
    "dataset2 = tf.data.Dataset.from_tensor_slices(features2)"
   ]
  },
  {
   "cell_type": "code",
   "execution_count": 45,
   "id": "df4f9234-2023-4fac-b761-acf761fba64a",
   "metadata": {},
   "outputs": [],
   "source": [
    "dataset3 = tf.data.Dataset.from_tensor_slices(features3)"
   ]
  },
  {
   "cell_type": "code",
   "execution_count": 46,
   "id": "696d7103-c6b8-4762-974d-9ee441bb5781",
   "metadata": {},
   "outputs": [],
   "source": [
    "dataset4 = tf.data.Dataset.from_tensor_slices(features4)"
   ]
  },
  {
   "cell_type": "code",
   "execution_count": 50,
   "id": "dd3329e1-2156-431b-8f04-9f7a1cc00a93",
   "metadata": {},
   "outputs": [],
   "source": [
    "# dataset=dataset1.concatenate(dataset2)"
   ]
  },
  {
   "cell_type": "code",
   "execution_count": 38,
   "id": "653e8efc-91cb-44a6-a43f-80ce6c2c25df",
   "metadata": {},
   "outputs": [
    {
     "ename": "NameError",
     "evalue": "name 'data1' is not defined",
     "output_type": "error",
     "traceback": [
      "\u001b[31m---------------------------------------------------------------------------\u001b[39m",
      "\u001b[31mNameError\u001b[39m                                 Traceback (most recent call last)",
      "\u001b[36mCell\u001b[39m\u001b[36m \u001b[39m\u001b[32mIn[38]\u001b[39m\u001b[32m, line 1\u001b[39m\n\u001b[32m----> \u001b[39m\u001b[32m1\u001b[39m data1 = \u001b[43mdata1\u001b[49m.map(preprocess)\n\u001b[32m      2\u001b[39m data1 = data1.cache()\n\u001b[32m      3\u001b[39m data1 = data1.shuffle(buffer_size=\u001b[32m1000\u001b[39m)\n",
      "\u001b[31mNameError\u001b[39m: name 'data1' is not defined"
     ]
    }
   ],
   "source": [
    "data1 = data1.map(preprocess)\n",
    "data1 = data1.cache()\n",
    "data1 = data1.shuffle(buffer_size=1000)\n",
    "data1 = data1.batch(16)\n",
    "data1 = data1.prefetch(8)"
   ]
  },
  {
   "cell_type": "code",
   "execution_count": null,
   "id": "04eef4b7-b380-4b26-8fb8-b897e4d4a308",
   "metadata": {},
   "outputs": [],
   "source": []
  },
  {
   "cell_type": "code",
   "execution_count": null,
   "id": "9ecdf98f-0b5d-48b4-bfb6-cf8317ce3333",
   "metadata": {},
   "outputs": [],
   "source": []
  }
 ],
 "metadata": {
  "kernelspec": {
   "display_name": "Python 3 (ipykernel)",
   "language": "python",
   "name": "python3"
  },
  "language_info": {
   "codemirror_mode": {
    "name": "ipython",
    "version": 3
   },
   "file_extension": ".py",
   "mimetype": "text/x-python",
   "name": "python",
   "nbconvert_exporter": "python",
   "pygments_lexer": "ipython3",
   "version": "3.13.5"
  }
 },
 "nbformat": 4,
 "nbformat_minor": 5
}
